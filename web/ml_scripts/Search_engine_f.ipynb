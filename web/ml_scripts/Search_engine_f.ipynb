{
 "cells": [
  {
   "cell_type": "code",
   "execution_count": 1,
   "metadata": {},
   "outputs": [
    {
     "name": "stderr",
     "output_type": "stream",
     "text": [
      "c:\\Users\\Nayani Chandrashaker\\AppData\\Local\\Programs\\Python\\Python311\\Lib\\site-packages\\tqdm\\auto.py:21: TqdmWarning: IProgress not found. Please update jupyter and ipywidgets. See https://ipywidgets.readthedocs.io/en/stable/user_install.html\n",
      "  from .autonotebook import tqdm as notebook_tqdm\n"
     ]
    }
   ],
   "source": [
    "import pandas as pd\n",
    "from elasticsearch import Elasticsearch\n",
    "from transformers import pipeline\n"
   ]
  },
  {
   "cell_type": "code",
   "execution_count": 2,
   "metadata": {},
   "outputs": [
    {
     "name": "stderr",
     "output_type": "stream",
     "text": [
      "Some weights of the model checkpoint at dbmdz/bert-large-cased-finetuned-conll03-english were not used when initializing BertForTokenClassification: ['bert.pooler.dense.bias', 'bert.pooler.dense.weight']\n",
      "- This IS expected if you are initializing BertForTokenClassification from the checkpoint of a model trained on another task or with another architecture (e.g. initializing a BertForSequenceClassification model from a BertForPreTraining model).\n",
      "- This IS NOT expected if you are initializing BertForTokenClassification from the checkpoint of a model that you expect to be exactly identical (initializing a BertForSequenceClassification model from a BertForSequenceClassification model).\n"
     ]
    }
   ],
   "source": [
    "# Connect to Elasticsearch\n",
    "es = Elasticsearch([{'host':'localhost','port':9200,'schema':'http'}])\n",
    "\n",
    "# Load NLP models\n",
    "ner_pipeline = pipeline(\"ner\", model=\"dbmdz/bert-large-cased-finetuned-conll03-english\")"
   ]
  },
  {
   "cell_type": "code",
   "execution_count": 6,
   "metadata": {},
   "outputs": [
    {
     "data": {
      "text/plain": [
       "Index(['title', 'sku', 'price', 'age group', 'brand', 'size', 'color',\n",
       "       'category', 'subcategory', 'maincategory', 'gender', 'image link',\n",
       "       'link', 'description'],\n",
       "      dtype='object')"
      ]
     },
     "execution_count": 6,
     "metadata": {},
     "output_type": "execute_result"
    }
   ],
   "source": [
    "# Read product data from CSV\n",
    "data = pd.read_csv(\"product_feeds.csv\")\n",
    "data.rename(columns={\"id\":'sku','custom label 1':'category','custom label 2':'subcategory','custom label 3':'maincategory'},inplace=True)\n",
    "data=data[['title', 'sku', 'price','age group', 'brand','size', 'color','category', 'subcategory', 'maincategory','gender','image link','link','description']]\n",
    "data.columns"
   ]
  },
  {
   "cell_type": "code",
   "execution_count": 7,
   "metadata": {},
   "outputs": [],
   "source": [
    "#data.drop([data['price'] == '0.01 INR'],inplace=True)"
   ]
  },
  {
   "cell_type": "code",
   "execution_count": 7,
   "metadata": {},
   "outputs": [
    {
     "data": {
      "text/plain": [
       "{'acknowledged': True, 'shards_acknowledged': True, 'index': 'search_index'}"
      ]
     },
     "execution_count": 7,
     "metadata": {},
     "output_type": "execute_result"
    }
   ],
   "source": [
    "# Define index settings and mappings\n",
    "index_name = \"search_index\"\n",
    "index_settings = {\n",
    "    \"settings\": {\n",
    "        \"number_of_shards\": 1,\n",
    "        \"number_of_replicas\": 0\n",
    "    },\n",
    "    \"mappings\": {\n",
    "        \"properties\": {\n",
    "            \"product_name\": {\"type\": \"text\"},\n",
    "            \"sku\": {\"type\": \"text\"},\n",
    "            \"price\": {\"type\": \"text\"},\n",
    "            \"age group\": {\"type\": \"text\"},\n",
    "            \"brand\": {\"type\": \"text\"},\n",
    "            \"size\": {\"type\": \"text\"},\n",
    "            \"color\": {\"type\": \"text\"},\n",
    "            \"category\": {\"type\": \"text\"},\n",
    "            \"subcategory\": {\"type\": \"text\"},\n",
    "            \"maincategory\": {\"type\": \"text\"},\n",
    "            \"gender\": {\"type\": \"text\"},\n",
    "            \"image link\": {\"type\": \"text\"},\n",
    "            \"link\": {\"type\": \"text\"},\n",
    "            \"description\": {\"type\": \"text\"},\n",
    "            'entities':{'type':'text'}\n",
    "        }\n",
    "    }\n",
    "}\n",
    "\n",
    "# Create the index\n",
    "es.indices.create(index=index_name, body=index_settings, ignore=400)"
   ]
  },
  {
   "cell_type": "code",
   "execution_count": 10,
   "metadata": {},
   "outputs": [],
   "source": [
    "data['text']=data['title']+''+data['gender']+' '+data['brand']+' '+data['color']+' '+data['size']+' '+data['category']+' '+data['subcategory']+' '+data['description']\n",
    "data.fillna(' ',inplace=True)"
   ]
  },
  {
   "cell_type": "code",
   "execution_count": 11,
   "metadata": {},
   "outputs": [],
   "source": [
    "# Index product data\n",
    "for idx, row in data.iterrows():\n",
    "    product = {\n",
    "        \"product_name\": row[\"title\"],\n",
    "        \"sku\": row[\"sku\"],\n",
    "        \"price\": row[\"price\"],\n",
    "        \"age group\": row[\"age group\"],\n",
    "        \"brand\": row[\"brand\"],\n",
    "        \"size\": row[\"size\"],\n",
    "        \"color\": row[\"color\"],\n",
    "        \"category\": row[\"category\"],\n",
    "        \"subcategory\": row[\"subcategory\"],\n",
    "        \"maincategory\": row[\"maincategory\"],\n",
    "        \"gender\": row[\"gender\"],\n",
    "        \"image link\": row[\"image link\"],\n",
    "        \"link\": row[\"link\"],\n",
    "        \"description\": row[\"description\"]\n",
    "        \n",
    "    }\n",
    "    \n",
    "    # Perform NER on attributes\n",
    "    ner_results = ner_pipeline(row[\"text\"])\n",
    "    entities = \", \".join([ent[\"word\"] for ent in ner_results])\n",
    "    product[\"entities\"] = entities\n",
    "    \n",
    "    es.index(index=index_name, id=idx, body=product)"
   ]
  },
  {
   "cell_type": "code",
   "execution_count": null,
   "metadata": {},
   "outputs": [],
   "source": []
  }
 ],
 "metadata": {
  "kernelspec": {
   "display_name": "Python 3",
   "language": "python",
   "name": "python3"
  },
  "language_info": {
   "codemirror_mode": {
    "name": "ipython",
    "version": 3
   },
   "file_extension": ".py",
   "mimetype": "text/x-python",
   "name": "python",
   "nbconvert_exporter": "python",
   "pygments_lexer": "ipython3",
   "version": "3.11.4"
  },
  "orig_nbformat": 4
 },
 "nbformat": 4,
 "nbformat_minor": 2
}
